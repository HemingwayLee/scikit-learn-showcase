{
 "cells": [
  {
   "cell_type": "code",
   "execution_count": 7,
   "metadata": {},
   "outputs": [
    {
     "data": {
      "text/plain": [
       "[Text(133.92000000000002, 195.696, 'X[3] <= 0.8\\ngini = 0.667\\nsamples = 120\\nvalue = [39, 41, 40]'),\n",
       " Text(100.44000000000001, 152.208, 'gini = 0.0\\nsamples = 39\\nvalue = [39, 0, 0]'),\n",
       " Text(167.40000000000003, 152.208, 'X[2] <= 4.95\\ngini = 0.5\\nsamples = 81\\nvalue = [0, 41, 40]'),\n",
       " Text(66.96000000000001, 108.72, 'X[3] <= 1.65\\ngini = 0.165\\nsamples = 44\\nvalue = [0, 40, 4]'),\n",
       " Text(33.480000000000004, 65.232, 'gini = 0.0\\nsamples = 39\\nvalue = [0, 39, 0]'),\n",
       " Text(100.44000000000001, 65.232, 'X[1] <= 3.1\\ngini = 0.32\\nsamples = 5\\nvalue = [0, 1, 4]'),\n",
       " Text(66.96000000000001, 21.744, 'gini = 0.0\\nsamples = 4\\nvalue = [0, 0, 4]'),\n",
       " Text(133.92000000000002, 21.744, 'gini = 0.0\\nsamples = 1\\nvalue = [0, 1, 0]'),\n",
       " Text(267.84000000000003, 108.72, 'X[2] <= 5.05\\ngini = 0.053\\nsamples = 37\\nvalue = [0, 1, 36]'),\n",
       " Text(234.36, 65.232, 'X[0] <= 6.5\\ngini = 0.375\\nsamples = 4\\nvalue = [0, 1, 3]'),\n",
       " Text(200.88000000000002, 21.744, 'gini = 0.0\\nsamples = 3\\nvalue = [0, 0, 3]'),\n",
       " Text(267.84000000000003, 21.744, 'gini = 0.0\\nsamples = 1\\nvalue = [0, 1, 0]'),\n",
       " Text(301.32000000000005, 65.232, 'gini = 0.0\\nsamples = 33\\nvalue = [0, 0, 33]')]"
      ]
     },
     "execution_count": 7,
     "metadata": {},
     "output_type": "execute_result"
    },
    {
     "data": {
      "image/png": "[encoded data removed]",
      "text/plain": [
       "<Figure size 432x288 with 1 Axes>"
      ]
     },
     "metadata": {
      "needs_background": "light"
     },
     "output_type": "display_data"
    }
   ],
   "source": [
    "%matplotlib inline\n",
    "\n",
    "from sklearn.datasets import load_iris\n",
    "from sklearn import tree\n",
    "from sklearn.model_selection import train_test_split\n",
    "\n",
    "iris = load_iris()\n",
    "X_train, X_test, y_train, y_test = train_test_split(\n",
    "    iris.data, iris.target, test_size=0.2, shuffle=True)\n",
    "\n",
    "dtc = tree.DecisionTreeClassifier()\n",
    "tree.plot_tree(dtc.fit(X_train, y_train)) "
   ]
  },
  {
   "cell_type": "code",
   "execution_count": 8,
   "metadata": {},
   "outputs": [
    {
     "name": "stdout",
     "output_type": "stream",
     "text": [
      "[5.  3.4 1.5 0.2] 0 [0]\n",
      "[6.3 3.3 4.7 1.6] 1 [1]\n",
      "[6.  2.7 5.1 1.6] 1 [2]\n",
      "[5.6 2.5 3.9 1.1] 1 [1]\n",
      "[6.2 2.8 4.8 1.8] 2 [2]\n",
      "[6.4 2.8 5.6 2.1] 2 [2]\n",
      "[5.4 3.7 1.5 0.2] 0 [0]\n",
      "[5.2 4.1 1.5 0.1] 0 [0]\n",
      "[6.9 3.2 5.7 2.3] 2 [2]\n",
      "[4.3 3.  1.1 0.1] 0 [0]\n",
      "[5.1 3.5 1.4 0.2] 0 [0]\n",
      "[5.1 3.8 1.6 0.2] 0 [0]\n",
      "[5.  3.6 1.4 0.2] 0 [0]\n",
      "[4.6 3.1 1.5 0.2] 0 [0]\n",
      "[6.4 2.7 5.3 1.9] 2 [2]\n",
      "[4.6 3.6 1.  0.2] 0 [0]\n",
      "[6.  2.9 4.5 1.5] 1 [1]\n",
      "[4.4 3.2 1.3 0.2] 0 [0]\n",
      "[5.  2.3 3.3 1. ] 1 [1]\n",
      "[6.4 3.2 5.3 2.3] 2 [2]\n",
      "[6.3 2.3 4.4 1.3] 1 [1]\n",
      "[5.8 2.7 3.9 1.2] 1 [1]\n",
      "[6.8 3.  5.5 2.1] 2 [2]\n",
      "[6.4 3.2 4.5 1.5] 1 [1]\n",
      "[5.7 2.8 4.1 1.3] 1 [1]\n",
      "[6.5 3.  5.5 1.8] 2 [2]\n",
      "[6.3 2.9 5.6 1.8] 2 [2]\n",
      "[6.7 3.3 5.7 2.1] 2 [2]\n",
      "[6.3 2.7 4.9 1.8] 2 [2]\n",
      "[5.1 3.5 1.4 0.3] 0 [0]\n"
     ]
    }
   ],
   "source": [
    "for idx, x in enumerate(X_test):\n",
    "    print(x, y_test[idx], dtc.predict([x]))"
   ]
  }
 ],
 "metadata": {
  "kernelspec": {
   "display_name": "venv",
   "language": "python",
   "name": "venv"
  },
  "language_info": {
   "codemirror_mode": {
    "name": "ipython",
    "version": 3
   },
   "file_extension": ".py",
   "mimetype": "text/x-python",
   "name": "python",
   "nbconvert_exporter": "python",
   "pygments_lexer": "ipython3",
   "version": "3.7.4"
  }
 },
 "nbformat": 4,
 "nbformat_minor": 2
}
